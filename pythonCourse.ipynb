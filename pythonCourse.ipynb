{
 "cells": [
  {
   "cell_type": "markdown",
   "id": "d71ef7a2-075f-4d21-927f-b333eb5f6adb",
   "metadata": {
    "jp-MarkdownHeadingCollapsed": true,
    "tags": []
   },
   "source": [
    "## Lists :"
   ]
  },
  {
   "cell_type": "markdown",
   "id": "aaa88365-118d-4921-a2d8-97c4dd9a85fd",
   "metadata": {},
   "source": [
    "- Ordered\n",
    "- mutable\n",
    "- Allows duplicate elements"
   ]
  },
  {
   "cell_type": "code",
   "execution_count": 5,
   "id": "ba20d390-ce29-44b3-b1ec-d8eb752c688b",
   "metadata": {},
   "outputs": [
    {
     "name": "stdout",
     "output_type": "stream",
     "text": [
      "['Python', 2, 'C+++', 2]\n",
      "2\n",
      "4\n",
      "['Python', 'R', 2, 'C+++', 2]\n",
      "ok\n",
      "[2, 'C+++', 'R', 'Python']\n"
     ]
    }
   ],
   "source": [
    "myList = [\"Python\", 2, \"C+++\"]\n",
    "myList1 = list()\n",
    "myList.append(2)\n",
    "print(myList)\n",
    "print(myList[-1])\n",
    "print(len(myList))\n",
    "myList.insert(1, \"R\")\n",
    "print(myList)\n",
    "if \"Python\" in myList:\n",
    "    print(\"ok\")\n",
    "else:\n",
    "    print(\"Not ok\")\n",
    "    \n",
    "myList.remove(2)\n",
    "#myList.clear()\n",
    "myList.reverse()\n",
    "new_list = sorted(myList1)\n",
    "print(myList)"
   ]
  },
  {
   "cell_type": "markdown",
   "id": "1bd90955-adc2-43d5-9efc-39a86c1571a2",
   "metadata": {
    "jp-MarkdownHeadingCollapsed": true,
    "tags": []
   },
   "source": [
    "## Tuples :\n",
    "  - ordered \n",
    "  - immutable \n",
    "  - allows duplicate elements"
   ]
  },
  {
   "cell_type": "code",
   "execution_count": 9,
   "id": "57682ad4-bd95-495e-852a-017c94c534ef",
   "metadata": {},
   "outputs": [
    {
     "data": {
      "text/plain": [
       "1"
      ]
     },
     "execution_count": 9,
     "metadata": {},
     "output_type": "execute_result"
    }
   ],
   "source": [
    "myTuple = tuple((\"Hamza\", 14, 14))\n",
    "myTuple.index(14)"
   ]
  },
  {
   "cell_type": "code",
   "execution_count": 14,
   "id": "80c5c855-7c4b-48f5-bf26-401fd4edd33a",
   "metadata": {},
   "outputs": [
    {
     "data": {
      "text/plain": [
       "('b', 'c', 'd')"
      ]
     },
     "execution_count": 14,
     "metadata": {},
     "output_type": "execute_result"
    }
   ],
   "source": [
    "alphabet = ('a', 'b', 'c', 'd', 'e', 'f')\n",
    "alphabet[1:4:1]"
   ]
  },
  {
   "cell_type": "code",
   "execution_count": 3,
   "id": "4d6f9f45-71ee-4707-ba3a-cd8625896eeb",
   "metadata": {},
   "outputs": [
    {
     "name": "stdout",
     "output_type": "stream",
     "text": [
      "('hamza', 15, 'a')\n"
     ]
    }
   ],
   "source": [
    "tuple_ = \"hamza\", 15, \"a\"\n",
    "print(tuple_)\n",
    "mytuple = (\"hamza\",)"
   ]
  },
  {
   "cell_type": "code",
   "execution_count": 5,
   "id": "65a2a444-5c33-41c3-ad6f-29d2a8395ab9",
   "metadata": {},
   "outputs": [
    {
     "name": "stdout",
     "output_type": "stream",
     "text": [
      "[2, 3, 5]\n"
     ]
    }
   ],
   "source": [
    "myTuple = (1,2,3,5,4)\n",
    "i1, *i2, i3 = myTuple\n",
    "print(i2)"
   ]
  },
  {
   "cell_type": "code",
   "execution_count": 13,
   "id": "f5ac5f26-c650-47cb-8a07-90f2eedbbd9b",
   "metadata": {},
   "outputs": [
    {
     "name": "stdout",
     "output_type": "stream",
     "text": [
      "64 bytes\n",
      "56 bytes\n"
     ]
    }
   ],
   "source": [
    "import sys\n",
    "T_1 = (1, 2, 3)\n",
    "T_2 = (1, 'a')\n",
    "print(sys.getsizeof(T_1), \"bytes\")\n",
    "print(sys.getsizeof(T_2), \"bytes\")"
   ]
  },
  {
   "cell_type": "markdown",
   "id": "b75f52f7-d4e8-4756-98f2-7d8a2ea91011",
   "metadata": {},
   "source": [
    "## Dictionaries"
   ]
  },
  {
   "cell_type": "code",
   "execution_count": null,
   "id": "aa4acdd4-9261-4a22-b872-2ce58bb64ff7",
   "metadata": {},
   "outputs": [],
   "source": []
  }
 ],
 "metadata": {
  "kernelspec": {
   "display_name": "Python 3 (ipykernel)",
   "language": "python",
   "name": "python3"
  },
  "language_info": {
   "codemirror_mode": {
    "name": "ipython",
    "version": 3
   },
   "file_extension": ".py",
   "mimetype": "text/x-python",
   "name": "python",
   "nbconvert_exporter": "python",
   "pygments_lexer": "ipython3",
   "version": "3.9.6"
  }
 },
 "nbformat": 4,
 "nbformat_minor": 5
}
